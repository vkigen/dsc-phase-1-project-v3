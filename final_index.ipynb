{
 "cells": [
  {
   "cell_type": "markdown",
   "metadata": {},
   "source": [
    "# Aviation Dataset\n",
    "\n",
    "We have a dataset called `Aviation_Data.csv` that we will analysis/clean in order to present all the relevant facts to the management team. In order to analyse the data appropriately, we will have to follow the folliwing steps:\n",
    "\n",
    "#### 1. Understand the Dataset\n",
    "\n",
    "#### 2. Clean the Data\n",
    "\n",
    "#### 3. Key Metrics for Risk Analysis"
   ]
  },
  {
   "cell_type": "markdown",
   "metadata": {},
   "source": [
    "## 1. Understand the Dataset\n",
    "\n",
    "Understanding the data is the first step that needs to be performed. In the cell below, we import the required libraries including:"
   ]
  },
  {
   "cell_type": "code",
   "execution_count": 124,
   "metadata": {},
   "outputs": [],
   "source": [
    "import pandas as pd\n",
    "import matplotlib.pyplot as plt\n",
    "import seaborn as sns"
   ]
  },
  {
   "cell_type": "markdown",
   "metadata": {},
   "source": [
    "The file is located in the following path `data/Aviation_Data.csv`. We shall create a dataframe called aviation_data in order to read the data."
   ]
  },
  {
   "cell_type": "code",
   "execution_count": 125,
   "metadata": {},
   "outputs": [],
   "source": [
    "aviation_data = pd.read_csv('data/Aviation_data.csv', low_memory=False)"
   ]
  },
  {
   "cell_type": "markdown",
   "metadata": {},
   "source": [
    "Using some the following built in pandas functions, we shall find out more info about the dataset that we have: \n",
    "\n",
    "- `.info`\n",
    "- `.head`\n",
    "- `.index`\n",
    "- `.columns`\n",
    "- `.dtypes`\n",
    "- `.shape`\n"
   ]
  },
  {
   "cell_type": "code",
   "execution_count": 126,
   "metadata": {},
   "outputs": [
    {
     "data": {
      "text/html": [
       "<div>\n",
       "<style scoped>\n",
       "    .dataframe tbody tr th:only-of-type {\n",
       "        vertical-align: middle;\n",
       "    }\n",
       "\n",
       "    .dataframe tbody tr th {\n",
       "        vertical-align: top;\n",
       "    }\n",
       "\n",
       "    .dataframe thead th {\n",
       "        text-align: right;\n",
       "    }\n",
       "</style>\n",
       "<table border=\"1\" class=\"dataframe\">\n",
       "  <thead>\n",
       "    <tr style=\"text-align: right;\">\n",
       "      <th></th>\n",
       "      <th>Event.Id</th>\n",
       "      <th>Investigation.Type</th>\n",
       "      <th>Accident.Number</th>\n",
       "      <th>Event.Date</th>\n",
       "      <th>Location</th>\n",
       "      <th>Country</th>\n",
       "      <th>Latitude</th>\n",
       "      <th>Longitude</th>\n",
       "      <th>Airport.Code</th>\n",
       "      <th>Airport.Name</th>\n",
       "      <th>...</th>\n",
       "      <th>Purpose.of.flight</th>\n",
       "      <th>Air.carrier</th>\n",
       "      <th>Total.Fatal.Injuries</th>\n",
       "      <th>Total.Serious.Injuries</th>\n",
       "      <th>Total.Minor.Injuries</th>\n",
       "      <th>Total.Uninjured</th>\n",
       "      <th>Weather.Condition</th>\n",
       "      <th>Broad.phase.of.flight</th>\n",
       "      <th>Report.Status</th>\n",
       "      <th>Publication.Date</th>\n",
       "    </tr>\n",
       "  </thead>\n",
       "  <tbody>\n",
       "    <tr>\n",
       "      <th>0</th>\n",
       "      <td>20001218X45444</td>\n",
       "      <td>Accident</td>\n",
       "      <td>SEA87LA080</td>\n",
       "      <td>1948-10-24</td>\n",
       "      <td>MOOSE CREEK, ID</td>\n",
       "      <td>United States</td>\n",
       "      <td>NaN</td>\n",
       "      <td>NaN</td>\n",
       "      <td>NaN</td>\n",
       "      <td>NaN</td>\n",
       "      <td>...</td>\n",
       "      <td>Personal</td>\n",
       "      <td>NaN</td>\n",
       "      <td>2.0</td>\n",
       "      <td>0.0</td>\n",
       "      <td>0.0</td>\n",
       "      <td>0.0</td>\n",
       "      <td>UNK</td>\n",
       "      <td>Cruise</td>\n",
       "      <td>Probable Cause</td>\n",
       "      <td>NaN</td>\n",
       "    </tr>\n",
       "    <tr>\n",
       "      <th>1</th>\n",
       "      <td>20001218X45447</td>\n",
       "      <td>Accident</td>\n",
       "      <td>LAX94LA336</td>\n",
       "      <td>1962-07-19</td>\n",
       "      <td>BRIDGEPORT, CA</td>\n",
       "      <td>United States</td>\n",
       "      <td>NaN</td>\n",
       "      <td>NaN</td>\n",
       "      <td>NaN</td>\n",
       "      <td>NaN</td>\n",
       "      <td>...</td>\n",
       "      <td>Personal</td>\n",
       "      <td>NaN</td>\n",
       "      <td>4.0</td>\n",
       "      <td>0.0</td>\n",
       "      <td>0.0</td>\n",
       "      <td>0.0</td>\n",
       "      <td>UNK</td>\n",
       "      <td>Unknown</td>\n",
       "      <td>Probable Cause</td>\n",
       "      <td>19-09-1996</td>\n",
       "    </tr>\n",
       "    <tr>\n",
       "      <th>2</th>\n",
       "      <td>20061025X01555</td>\n",
       "      <td>Accident</td>\n",
       "      <td>NYC07LA005</td>\n",
       "      <td>1974-08-30</td>\n",
       "      <td>Saltville, VA</td>\n",
       "      <td>United States</td>\n",
       "      <td>36.922223</td>\n",
       "      <td>-81.878056</td>\n",
       "      <td>NaN</td>\n",
       "      <td>NaN</td>\n",
       "      <td>...</td>\n",
       "      <td>Personal</td>\n",
       "      <td>NaN</td>\n",
       "      <td>3.0</td>\n",
       "      <td>NaN</td>\n",
       "      <td>NaN</td>\n",
       "      <td>NaN</td>\n",
       "      <td>IMC</td>\n",
       "      <td>Cruise</td>\n",
       "      <td>Probable Cause</td>\n",
       "      <td>26-02-2007</td>\n",
       "    </tr>\n",
       "    <tr>\n",
       "      <th>3</th>\n",
       "      <td>20001218X45448</td>\n",
       "      <td>Accident</td>\n",
       "      <td>LAX96LA321</td>\n",
       "      <td>1977-06-19</td>\n",
       "      <td>EUREKA, CA</td>\n",
       "      <td>United States</td>\n",
       "      <td>NaN</td>\n",
       "      <td>NaN</td>\n",
       "      <td>NaN</td>\n",
       "      <td>NaN</td>\n",
       "      <td>...</td>\n",
       "      <td>Personal</td>\n",
       "      <td>NaN</td>\n",
       "      <td>2.0</td>\n",
       "      <td>0.0</td>\n",
       "      <td>0.0</td>\n",
       "      <td>0.0</td>\n",
       "      <td>IMC</td>\n",
       "      <td>Cruise</td>\n",
       "      <td>Probable Cause</td>\n",
       "      <td>12-09-2000</td>\n",
       "    </tr>\n",
       "    <tr>\n",
       "      <th>4</th>\n",
       "      <td>20041105X01764</td>\n",
       "      <td>Accident</td>\n",
       "      <td>CHI79FA064</td>\n",
       "      <td>1979-08-02</td>\n",
       "      <td>Canton, OH</td>\n",
       "      <td>United States</td>\n",
       "      <td>NaN</td>\n",
       "      <td>NaN</td>\n",
       "      <td>NaN</td>\n",
       "      <td>NaN</td>\n",
       "      <td>...</td>\n",
       "      <td>Personal</td>\n",
       "      <td>NaN</td>\n",
       "      <td>1.0</td>\n",
       "      <td>2.0</td>\n",
       "      <td>NaN</td>\n",
       "      <td>0.0</td>\n",
       "      <td>VMC</td>\n",
       "      <td>Approach</td>\n",
       "      <td>Probable Cause</td>\n",
       "      <td>16-04-1980</td>\n",
       "    </tr>\n",
       "  </tbody>\n",
       "</table>\n",
       "<p>5 rows × 31 columns</p>\n",
       "</div>"
      ],
      "text/plain": [
       "         Event.Id Investigation.Type Accident.Number  Event.Date  \\\n",
       "0  20001218X45444           Accident      SEA87LA080  1948-10-24   \n",
       "1  20001218X45447           Accident      LAX94LA336  1962-07-19   \n",
       "2  20061025X01555           Accident      NYC07LA005  1974-08-30   \n",
       "3  20001218X45448           Accident      LAX96LA321  1977-06-19   \n",
       "4  20041105X01764           Accident      CHI79FA064  1979-08-02   \n",
       "\n",
       "          Location        Country   Latitude   Longitude Airport.Code  \\\n",
       "0  MOOSE CREEK, ID  United States        NaN         NaN          NaN   \n",
       "1   BRIDGEPORT, CA  United States        NaN         NaN          NaN   \n",
       "2    Saltville, VA  United States  36.922223  -81.878056          NaN   \n",
       "3       EUREKA, CA  United States        NaN         NaN          NaN   \n",
       "4       Canton, OH  United States        NaN         NaN          NaN   \n",
       "\n",
       "  Airport.Name  ... Purpose.of.flight Air.carrier Total.Fatal.Injuries  \\\n",
       "0          NaN  ...          Personal         NaN                  2.0   \n",
       "1          NaN  ...          Personal         NaN                  4.0   \n",
       "2          NaN  ...          Personal         NaN                  3.0   \n",
       "3          NaN  ...          Personal         NaN                  2.0   \n",
       "4          NaN  ...          Personal         NaN                  1.0   \n",
       "\n",
       "  Total.Serious.Injuries Total.Minor.Injuries Total.Uninjured  \\\n",
       "0                    0.0                  0.0             0.0   \n",
       "1                    0.0                  0.0             0.0   \n",
       "2                    NaN                  NaN             NaN   \n",
       "3                    0.0                  0.0             0.0   \n",
       "4                    2.0                  NaN             0.0   \n",
       "\n",
       "  Weather.Condition  Broad.phase.of.flight   Report.Status Publication.Date  \n",
       "0               UNK                 Cruise  Probable Cause              NaN  \n",
       "1               UNK                Unknown  Probable Cause       19-09-1996  \n",
       "2               IMC                 Cruise  Probable Cause       26-02-2007  \n",
       "3               IMC                 Cruise  Probable Cause       12-09-2000  \n",
       "4               VMC               Approach  Probable Cause       16-04-1980  \n",
       "\n",
       "[5 rows x 31 columns]"
      ]
     },
     "execution_count": 126,
     "metadata": {},
     "output_type": "execute_result"
    }
   ],
   "source": [
    "aviation_data.head()"
   ]
  },
  {
   "cell_type": "code",
   "execution_count": 127,
   "metadata": {},
   "outputs": [
    {
     "name": "stdout",
     "output_type": "stream",
     "text": [
      "<class 'pandas.core.frame.DataFrame'>\n",
      "RangeIndex: 90348 entries, 0 to 90347\n",
      "Data columns (total 31 columns):\n",
      " #   Column                  Non-Null Count  Dtype  \n",
      "---  ------                  --------------  -----  \n",
      " 0   Event.Id                88889 non-null  object \n",
      " 1   Investigation.Type      90348 non-null  object \n",
      " 2   Accident.Number         88889 non-null  object \n",
      " 3   Event.Date              88889 non-null  object \n",
      " 4   Location                88837 non-null  object \n",
      " 5   Country                 88663 non-null  object \n",
      " 6   Latitude                34382 non-null  object \n",
      " 7   Longitude               34373 non-null  object \n",
      " 8   Airport.Code            50249 non-null  object \n",
      " 9   Airport.Name            52790 non-null  object \n",
      " 10  Injury.Severity         87889 non-null  object \n",
      " 11  Aircraft.damage         85695 non-null  object \n",
      " 12  Aircraft.Category       32287 non-null  object \n",
      " 13  Registration.Number     87572 non-null  object \n",
      " 14  Make                    88826 non-null  object \n",
      " 15  Model                   88797 non-null  object \n",
      " 16  Amateur.Built           88787 non-null  object \n",
      " 17  Number.of.Engines       82805 non-null  float64\n",
      " 18  Engine.Type             81812 non-null  object \n",
      " 19  FAR.Description         32023 non-null  object \n",
      " 20  Schedule                12582 non-null  object \n",
      " 21  Purpose.of.flight       82697 non-null  object \n",
      " 22  Air.carrier             16648 non-null  object \n",
      " 23  Total.Fatal.Injuries    77488 non-null  float64\n",
      " 24  Total.Serious.Injuries  76379 non-null  float64\n",
      " 25  Total.Minor.Injuries    76956 non-null  float64\n",
      " 26  Total.Uninjured         82977 non-null  float64\n",
      " 27  Weather.Condition       84397 non-null  object \n",
      " 28  Broad.phase.of.flight   61724 non-null  object \n",
      " 29  Report.Status           82508 non-null  object \n",
      " 30  Publication.Date        73659 non-null  object \n",
      "dtypes: float64(5), object(26)\n",
      "memory usage: 21.4+ MB\n"
     ]
    },
    {
     "data": {
      "text/plain": [
       "(90348, 31)"
      ]
     },
     "execution_count": 127,
     "metadata": {},
     "output_type": "execute_result"
    }
   ],
   "source": [
    "aviation_data.info()\n",
    "aviation_data.shape"
   ]
  },
  {
   "cell_type": "markdown",
   "metadata": {},
   "source": [
    "Based on the information given above, we have 31 columns of mixed datatypes. The first step of our data analysis will be identify which of the columns are relevant to our analysis. Apart from using the names of the columns, we can use the .unique() attribute to get a better understanding of the columns as shown below:"
   ]
  },
  {
   "cell_type": "code",
   "execution_count": 128,
   "metadata": {},
   "outputs": [
    {
     "name": "stdout",
     "output_type": "stream",
     "text": [
      "['Accident' 'Incident' '25-09-2020' '14-06-2021' '03-11-2020' '24-02-2021'\n",
      " '02-02-2021' '05-05-2021' '03-12-2020' '07-12-2020' '06-05-2021'\n",
      " '19-11-2020' '04-08-2021' '13-09-2021' '10-06-2021' '14-12-2021'\n",
      " '08-06-2021' '24-06-2021' '24-08-2021' '31-03-2021' '27-05-2021'\n",
      " '20-05-2021' '18-11-2020' '25-05-2021' '01-06-2021' '15-07-2021'\n",
      " '15-10-2021' '26-09-2020' '03-06-2021' '29-09-2021' '28-01-2021'\n",
      " '20-10-2021' '11-12-2020' '11-02-2021' '13-12-2021' '06-01-2021'\n",
      " '31-08-2021' '04-03-2021' '05-04-2021' '26-01-2021' '29-01-2021'\n",
      " '26-08-2021' '08-11-2021' '20-08-2021' '05-01-2021' '22-09-2021'\n",
      " '20-09-2021' '16-07-2021' '19-10-2021' '16-11-2021' '17-12-2021'\n",
      " '14-06-2022' '22-06-2022' '13-10-2022' '03-11-2022' '13-07-2022'\n",
      " '05-07-2022' '01-09-2022' '12-08-2022' '08-09-2022' '22-09-2022'\n",
      " '01-11-2022' '01-07-2022' '20-07-2022' '06-10-2022' '23-09-2022'\n",
      " '02-12-2022' '05-08-2022' '08-12-2022' '15-12-2022' '20-12-2022']\n"
     ]
    }
   ],
   "source": [
    "unique_invenstigation_type = aviation_data['Investigation.Type'].unique()\n",
    "print(unique_invenstigation_type)\n",
    "#aviation_data.loc[aviation_data['Investigation.Type'] == '25-09-2021']"
   ]
  },
  {
   "cell_type": "code",
   "execution_count": 129,
   "metadata": {},
   "outputs": [
    {
     "data": {
      "image/png": "[encoded data removed]",
      "text/plain": [
       "<Figure size 720x432 with 1 Axes>"
      ]
     },
     "metadata": {
      "needs_background": "light"
     },
     "output_type": "display_data"
    }
   ],
   "source": [
    "# Calculate measures of central tendency\n",
    "mean_value = aviation_data['Total.Fatal.Injuries'].mean()\n",
    "median_value = aviation_data['Total.Fatal.Injuries'].median()\n",
    "mode_value = aviation_data['Total.Fatal.Injuries'].mode()[0]  # mode() returns a Series\n",
    "\n",
    "# Create a bar plot\n",
    "plt.figure(figsize=(10, 6))\n",
    "sns.histplot(aviation_data['Total.Fatal.Injuries'], bins=30, kde=True, color='lightgray', label='Frequency')\n",
    "plt.axvline(mean_value, color='red', linestyle='--', label='Mean')\n",
    "#plt.axvline(median_value, color='blue', linestyle='-', label='Median')\n",
    "#plt.axvline(mode_value, color='green', linestyle=':', label='Mode')\n",
    "\n",
    "# Customize the plot\n",
    "plt.title('Measures of Central Tendency for Total Fatal Injuries')\n",
    "plt.xlabel('Total Fatal Injuries')\n",
    "plt.ylabel('Frequency')\n",
    "plt.legend()\n",
    "plt.grid()\n",
    "plt.show()"
   ]
  },
  {
   "cell_type": "markdown",
   "metadata": {},
   "source": [
    "## 2. Clean the Data"
   ]
  },
  {
   "cell_type": "markdown",
   "metadata": {},
   "source": [
    "Now that we understand the attributes of the dataset that we have been given, we now have to clean the data through the following steps: \n",
    "\n",
    "<b>2.1. Missing Values</b>\n",
    "\n",
    "From my analysis, the irrelevant columns are: \n",
    "\n",
    "<b>1. Event.Id </b> - Has no relevance to our business problem <br>\n",
    "<b> 2. Airport.Code </b> -  Has no relevance to our business problem <br>\n",
    "<b> 5. Airport.Name </b> -  Same reason as the Airport.Code column<br>\n",
    "<b> 3. Latitude </b> - 62.95% of the rows are missing data from this column. <br>\n",
    "<b> 4. Longitude </b> - 62.96% of the rows are missing this data from this column. <br>\n",
    "<b> 6. Publication.Date </b> -  <br>\n",
    "<b> 7. Registration.Number </b> -  <br>\n",
    "<b> 8. FAR.Description</b> -  <br>\n",
    "<b> 9. Schedule</b> -  <br>\n",
    "<b> 10. Air.carrier</b> -  <br>\n",
    "<b> 11. Amateur.Built</b> -  <br>\n",
    "\n",
    "We should drop these columns from the dataset. "
   ]
  },
  {
   "cell_type": "code",
   "execution_count": 130,
   "metadata": {},
   "outputs": [
    {
     "data": {
      "text/html": [
       "<div>\n",
       "<style scoped>\n",
       "    .dataframe tbody tr th:only-of-type {\n",
       "        vertical-align: middle;\n",
       "    }\n",
       "\n",
       "    .dataframe tbody tr th {\n",
       "        vertical-align: top;\n",
       "    }\n",
       "\n",
       "    .dataframe thead th {\n",
       "        text-align: right;\n",
       "    }\n",
       "</style>\n",
       "<table border=\"1\" class=\"dataframe\">\n",
       "  <thead>\n",
       "    <tr style=\"text-align: right;\">\n",
       "      <th></th>\n",
       "      <th>Investigation.Type</th>\n",
       "      <th>Accident.Number</th>\n",
       "      <th>Event.Date</th>\n",
       "      <th>Location</th>\n",
       "      <th>Country</th>\n",
       "      <th>Injury.Severity</th>\n",
       "      <th>Aircraft.damage</th>\n",
       "      <th>Aircraft.Category</th>\n",
       "      <th>Make</th>\n",
       "      <th>Model</th>\n",
       "      <th>Number.of.Engines</th>\n",
       "      <th>Engine.Type</th>\n",
       "      <th>Purpose.of.flight</th>\n",
       "      <th>Total.Fatal.Injuries</th>\n",
       "      <th>Total.Serious.Injuries</th>\n",
       "      <th>Total.Minor.Injuries</th>\n",
       "      <th>Total.Uninjured</th>\n",
       "      <th>Weather.Condition</th>\n",
       "      <th>Broad.phase.of.flight</th>\n",
       "      <th>Report.Status</th>\n",
       "    </tr>\n",
       "  </thead>\n",
       "  <tbody>\n",
       "    <tr>\n",
       "      <th>0</th>\n",
       "      <td>Accident</td>\n",
       "      <td>SEA87LA080</td>\n",
       "      <td>1948-10-24</td>\n",
       "      <td>MOOSE CREEK, ID</td>\n",
       "      <td>United States</td>\n",
       "      <td>Fatal(2)</td>\n",
       "      <td>Destroyed</td>\n",
       "      <td>NaN</td>\n",
       "      <td>Stinson</td>\n",
       "      <td>108-3</td>\n",
       "      <td>1.0</td>\n",
       "      <td>Reciprocating</td>\n",
       "      <td>Personal</td>\n",
       "      <td>2.0</td>\n",
       "      <td>0.0</td>\n",
       "      <td>0.0</td>\n",
       "      <td>0.0</td>\n",
       "      <td>UNK</td>\n",
       "      <td>Cruise</td>\n",
       "      <td>Probable Cause</td>\n",
       "    </tr>\n",
       "    <tr>\n",
       "      <th>1</th>\n",
       "      <td>Accident</td>\n",
       "      <td>LAX94LA336</td>\n",
       "      <td>1962-07-19</td>\n",
       "      <td>BRIDGEPORT, CA</td>\n",
       "      <td>United States</td>\n",
       "      <td>Fatal(4)</td>\n",
       "      <td>Destroyed</td>\n",
       "      <td>NaN</td>\n",
       "      <td>Piper</td>\n",
       "      <td>PA24-180</td>\n",
       "      <td>1.0</td>\n",
       "      <td>Reciprocating</td>\n",
       "      <td>Personal</td>\n",
       "      <td>4.0</td>\n",
       "      <td>0.0</td>\n",
       "      <td>0.0</td>\n",
       "      <td>0.0</td>\n",
       "      <td>UNK</td>\n",
       "      <td>Unknown</td>\n",
       "      <td>Probable Cause</td>\n",
       "    </tr>\n",
       "    <tr>\n",
       "      <th>2</th>\n",
       "      <td>Accident</td>\n",
       "      <td>NYC07LA005</td>\n",
       "      <td>1974-08-30</td>\n",
       "      <td>Saltville, VA</td>\n",
       "      <td>United States</td>\n",
       "      <td>Fatal(3)</td>\n",
       "      <td>Destroyed</td>\n",
       "      <td>NaN</td>\n",
       "      <td>Cessna</td>\n",
       "      <td>172M</td>\n",
       "      <td>1.0</td>\n",
       "      <td>Reciprocating</td>\n",
       "      <td>Personal</td>\n",
       "      <td>3.0</td>\n",
       "      <td>NaN</td>\n",
       "      <td>NaN</td>\n",
       "      <td>NaN</td>\n",
       "      <td>IMC</td>\n",
       "      <td>Cruise</td>\n",
       "      <td>Probable Cause</td>\n",
       "    </tr>\n",
       "    <tr>\n",
       "      <th>3</th>\n",
       "      <td>Accident</td>\n",
       "      <td>LAX96LA321</td>\n",
       "      <td>1977-06-19</td>\n",
       "      <td>EUREKA, CA</td>\n",
       "      <td>United States</td>\n",
       "      <td>Fatal(2)</td>\n",
       "      <td>Destroyed</td>\n",
       "      <td>NaN</td>\n",
       "      <td>Rockwell</td>\n",
       "      <td>112</td>\n",
       "      <td>1.0</td>\n",
       "      <td>Reciprocating</td>\n",
       "      <td>Personal</td>\n",
       "      <td>2.0</td>\n",
       "      <td>0.0</td>\n",
       "      <td>0.0</td>\n",
       "      <td>0.0</td>\n",
       "      <td>IMC</td>\n",
       "      <td>Cruise</td>\n",
       "      <td>Probable Cause</td>\n",
       "    </tr>\n",
       "    <tr>\n",
       "      <th>4</th>\n",
       "      <td>Accident</td>\n",
       "      <td>CHI79FA064</td>\n",
       "      <td>1979-08-02</td>\n",
       "      <td>Canton, OH</td>\n",
       "      <td>United States</td>\n",
       "      <td>Fatal(1)</td>\n",
       "      <td>Destroyed</td>\n",
       "      <td>NaN</td>\n",
       "      <td>Cessna</td>\n",
       "      <td>501</td>\n",
       "      <td>NaN</td>\n",
       "      <td>NaN</td>\n",
       "      <td>Personal</td>\n",
       "      <td>1.0</td>\n",
       "      <td>2.0</td>\n",
       "      <td>NaN</td>\n",
       "      <td>0.0</td>\n",
       "      <td>VMC</td>\n",
       "      <td>Approach</td>\n",
       "      <td>Probable Cause</td>\n",
       "    </tr>\n",
       "  </tbody>\n",
       "</table>\n",
       "</div>"
      ],
      "text/plain": [
       "  Investigation.Type Accident.Number  Event.Date         Location  \\\n",
       "0           Accident      SEA87LA080  1948-10-24  MOOSE CREEK, ID   \n",
       "1           Accident      LAX94LA336  1962-07-19   BRIDGEPORT, CA   \n",
       "2           Accident      NYC07LA005  1974-08-30    Saltville, VA   \n",
       "3           Accident      LAX96LA321  1977-06-19       EUREKA, CA   \n",
       "4           Accident      CHI79FA064  1979-08-02       Canton, OH   \n",
       "\n",
       "         Country Injury.Severity Aircraft.damage Aircraft.Category      Make  \\\n",
       "0  United States        Fatal(2)       Destroyed               NaN   Stinson   \n",
       "1  United States        Fatal(4)       Destroyed               NaN     Piper   \n",
       "2  United States        Fatal(3)       Destroyed               NaN    Cessna   \n",
       "3  United States        Fatal(2)       Destroyed               NaN  Rockwell   \n",
       "4  United States        Fatal(1)       Destroyed               NaN    Cessna   \n",
       "\n",
       "      Model  Number.of.Engines    Engine.Type Purpose.of.flight  \\\n",
       "0     108-3                1.0  Reciprocating          Personal   \n",
       "1  PA24-180                1.0  Reciprocating          Personal   \n",
       "2      172M                1.0  Reciprocating          Personal   \n",
       "3       112                1.0  Reciprocating          Personal   \n",
       "4       501                NaN            NaN          Personal   \n",
       "\n",
       "   Total.Fatal.Injuries  Total.Serious.Injuries  Total.Minor.Injuries  \\\n",
       "0                   2.0                     0.0                   0.0   \n",
       "1                   4.0                     0.0                   0.0   \n",
       "2                   3.0                     NaN                   NaN   \n",
       "3                   2.0                     0.0                   0.0   \n",
       "4                   1.0                     2.0                   NaN   \n",
       "\n",
       "   Total.Uninjured Weather.Condition Broad.phase.of.flight   Report.Status  \n",
       "0              0.0               UNK                Cruise  Probable Cause  \n",
       "1              0.0               UNK               Unknown  Probable Cause  \n",
       "2              NaN               IMC                Cruise  Probable Cause  \n",
       "3              0.0               IMC                Cruise  Probable Cause  \n",
       "4              0.0               VMC              Approach  Probable Cause  "
      ]
     },
     "execution_count": 130,
     "metadata": {},
     "output_type": "execute_result"
    }
   ],
   "source": [
    "columns_to_drop = ['Event.Id', 'Airport.Code', 'Latitude','Longitude','Airport.Name','Publication.Date','Registration.Number','FAR.Description','Schedule','Air.carrier','Amateur.Built']\n",
    "\n",
    "adc = aviation_data.drop(columns=columns_to_drop)\n",
    "adc.head()\n"
   ]
  },
  {
   "cell_type": "code",
   "execution_count": 131,
   "metadata": {},
   "outputs": [
    {
     "name": "stdout",
     "output_type": "stream",
     "text": [
      "<class 'pandas.core.frame.DataFrame'>\n",
      "RangeIndex: 90348 entries, 0 to 90347\n",
      "Data columns (total 20 columns):\n",
      " #   Column                  Non-Null Count  Dtype  \n",
      "---  ------                  --------------  -----  \n",
      " 0   Investigation.Type      90348 non-null  object \n",
      " 1   Accident.Number         88889 non-null  object \n",
      " 2   Event.Date              88889 non-null  object \n",
      " 3   Location                88837 non-null  object \n",
      " 4   Country                 88663 non-null  object \n",
      " 5   Injury.Severity         87889 non-null  object \n",
      " 6   Aircraft.damage         85695 non-null  object \n",
      " 7   Aircraft.Category       32287 non-null  object \n",
      " 8   Make                    88826 non-null  object \n",
      " 9   Model                   88797 non-null  object \n",
      " 10  Number.of.Engines       82805 non-null  float64\n",
      " 11  Engine.Type             81812 non-null  object \n",
      " 12  Purpose.of.flight       82697 non-null  object \n",
      " 13  Total.Fatal.Injuries    77488 non-null  float64\n",
      " 14  Total.Serious.Injuries  76379 non-null  float64\n",
      " 15  Total.Minor.Injuries    76956 non-null  float64\n",
      " 16  Total.Uninjured         82977 non-null  float64\n",
      " 17  Weather.Condition       84397 non-null  object \n",
      " 18  Broad.phase.of.flight   61724 non-null  object \n",
      " 19  Report.Status           82508 non-null  object \n",
      "dtypes: float64(5), object(15)\n",
      "memory usage: 13.8+ MB\n"
     ]
    },
    {
     "data": {
      "text/plain": [
       "(90348, 20)"
      ]
     },
     "execution_count": 131,
     "metadata": {},
     "output_type": "execute_result"
    }
   ],
   "source": [
    "adc.info()\n",
    "adc.shape"
   ]
  },
  {
   "cell_type": "markdown",
   "metadata": {},
   "source": [
    "Now that we have the relevant columns, we now need to do the same thing with the rows. "
   ]
  },
  {
   "cell_type": "code",
   "execution_count": 132,
   "metadata": {},
   "outputs": [
    {
     "name": "stdout",
     "output_type": "stream",
     "text": [
      "Investigation.Type            0\n",
      "Accident.Number            1459\n",
      "Event.Date                 1459\n",
      "Location                   1511\n",
      "Country                    1685\n",
      "Injury.Severity            2459\n",
      "Aircraft.damage            4653\n",
      "Aircraft.Category         58061\n",
      "Make                       1522\n",
      "Model                      1551\n",
      "Number.of.Engines          7543\n",
      "Engine.Type                8536\n",
      "Purpose.of.flight          7651\n",
      "Total.Fatal.Injuries      12860\n",
      "Total.Serious.Injuries    13969\n",
      "Total.Minor.Injuries      13392\n",
      "Total.Uninjured            7371\n",
      "Weather.Condition          5951\n",
      "Broad.phase.of.flight     28624\n",
      "Report.Status              7840\n",
      "dtype: int64\n"
     ]
    }
   ],
   "source": [
    "print(adc.isnull().sum())"
   ]
  },
  {
   "cell_type": "markdown",
   "metadata": {},
   "source": [
    "#### 1. Investigation.Type"
   ]
  },
  {
   "cell_type": "code",
   "execution_count": 133,
   "metadata": {},
   "outputs": [
    {
     "name": "stdout",
     "output_type": "stream",
     "text": [
      "['Accident' 'Incident' '25-09-2020' '14-06-2021' '03-11-2020' '24-02-2021'\n",
      " '02-02-2021' '05-05-2021' '03-12-2020' '07-12-2020' '06-05-2021'\n",
      " '19-11-2020' '04-08-2021' '13-09-2021' '10-06-2021' '14-12-2021'\n",
      " '08-06-2021' '24-06-2021' '24-08-2021' '31-03-2021' '27-05-2021'\n",
      " '20-05-2021' '18-11-2020' '25-05-2021' '01-06-2021' '15-07-2021'\n",
      " '15-10-2021' '26-09-2020' '03-06-2021' '29-09-2021' '28-01-2021'\n",
      " '20-10-2021' '11-12-2020' '11-02-2021' '13-12-2021' '06-01-2021'\n",
      " '31-08-2021' '04-03-2021' '05-04-2021' '26-01-2021' '29-01-2021'\n",
      " '26-08-2021' '08-11-2021' '20-08-2021' '05-01-2021' '22-09-2021'\n",
      " '20-09-2021' '16-07-2021' '19-10-2021' '16-11-2021' '17-12-2021'\n",
      " '14-06-2022' '22-06-2022' '13-10-2022' '03-11-2022' '13-07-2022'\n",
      " '05-07-2022' '01-09-2022' '12-08-2022' '08-09-2022' '22-09-2022'\n",
      " '01-11-2022' '01-07-2022' '20-07-2022' '06-10-2022' '23-09-2022'\n",
      " '02-12-2022' '05-08-2022' '08-12-2022' '15-12-2022' '20-12-2022']\n"
     ]
    }
   ],
   "source": [
    "unique_invenstigation_type = adc['Investigation.Type'].unique()\n",
    "print(unique_invenstigation_type)"
   ]
  },
  {
   "cell_type": "code",
   "execution_count": 134,
   "metadata": {},
   "outputs": [
    {
     "data": {
      "text/plain": [
       "88889"
      ]
     },
     "execution_count": 134,
     "metadata": {},
     "output_type": "execute_result"
    }
   ],
   "source": [
    "result = adc.loc[(adc['Investigation.Type'] == 'Accident') | (adc['Investigation.Type'] == 'Incident')]\n",
    "len(result)"
   ]
  },
  {
   "cell_type": "code",
   "execution_count": 135,
   "metadata": {},
   "outputs": [
    {
     "name": "stdout",
     "output_type": "stream",
     "text": [
      "<class 'pandas.core.frame.DataFrame'>\n",
      "Int64Index: 1459 entries, 64030 to 90097\n",
      "Data columns (total 20 columns):\n",
      " #   Column                  Non-Null Count  Dtype  \n",
      "---  ------                  --------------  -----  \n",
      " 0   Investigation.Type      1459 non-null   object \n",
      " 1   Accident.Number         0 non-null      object \n",
      " 2   Event.Date              0 non-null      object \n",
      " 3   Location                0 non-null      object \n",
      " 4   Country                 0 non-null      object \n",
      " 5   Injury.Severity         0 non-null      object \n",
      " 6   Aircraft.damage         0 non-null      object \n",
      " 7   Aircraft.Category       0 non-null      object \n",
      " 8   Make                    0 non-null      object \n",
      " 9   Model                   0 non-null      object \n",
      " 10  Number.of.Engines       0 non-null      float64\n",
      " 11  Engine.Type             0 non-null      object \n",
      " 12  Purpose.of.flight       0 non-null      object \n",
      " 13  Total.Fatal.Injuries    0 non-null      float64\n",
      " 14  Total.Serious.Injuries  0 non-null      float64\n",
      " 15  Total.Minor.Injuries    0 non-null      float64\n",
      " 16  Total.Uninjured         0 non-null      float64\n",
      " 17  Weather.Condition       0 non-null      object \n",
      " 18  Broad.phase.of.flight   0 non-null      object \n",
      " 19  Report.Status           0 non-null      object \n",
      "dtypes: float64(5), object(15)\n",
      "memory usage: 239.4+ KB\n"
     ]
    }
   ],
   "source": [
    "problematic_rows = adc.loc[(adc['Investigation.Type'] != 'Accident') & (adc['Investigation.Type'] != 'Incident')]\n",
    "#problematic_rows = adc[~adc['Investigation.Type'].isin(['Accident', 'Incident'])]\n",
    "#print(problematic_rows)\n",
    "problematic_rows.info()"
   ]
  },
  {
   "cell_type": "markdown",
   "metadata": {},
   "source": [
    "The rows where the `Investigation.Type` column is neither <b>Accident</b> or <b>Incident</b> have null entries for all the other columns. As a result these rows are irrelevant and should be dropped."
   ]
  },
  {
   "cell_type": "code",
   "execution_count": 136,
   "metadata": {
    "scrolled": true
   },
   "outputs": [
    {
     "data": {
      "text/html": [
       "<div>\n",
       "<style scoped>\n",
       "    .dataframe tbody tr th:only-of-type {\n",
       "        vertical-align: middle;\n",
       "    }\n",
       "\n",
       "    .dataframe tbody tr th {\n",
       "        vertical-align: top;\n",
       "    }\n",
       "\n",
       "    .dataframe thead th {\n",
       "        text-align: right;\n",
       "    }\n",
       "</style>\n",
       "<table border=\"1\" class=\"dataframe\">\n",
       "  <thead>\n",
       "    <tr style=\"text-align: right;\">\n",
       "      <th></th>\n",
       "      <th>Investigation.Type</th>\n",
       "      <th>Accident.Number</th>\n",
       "      <th>Event.Date</th>\n",
       "      <th>Location</th>\n",
       "      <th>Country</th>\n",
       "      <th>Injury.Severity</th>\n",
       "      <th>Aircraft.damage</th>\n",
       "      <th>Aircraft.Category</th>\n",
       "      <th>Make</th>\n",
       "      <th>Model</th>\n",
       "      <th>Number.of.Engines</th>\n",
       "      <th>Engine.Type</th>\n",
       "      <th>Purpose.of.flight</th>\n",
       "      <th>Total.Fatal.Injuries</th>\n",
       "      <th>Total.Serious.Injuries</th>\n",
       "      <th>Total.Minor.Injuries</th>\n",
       "      <th>Total.Uninjured</th>\n",
       "      <th>Weather.Condition</th>\n",
       "      <th>Broad.phase.of.flight</th>\n",
       "      <th>Report.Status</th>\n",
       "    </tr>\n",
       "  </thead>\n",
       "  <tbody>\n",
       "    <tr>\n",
       "      <th>0</th>\n",
       "      <td>Accident</td>\n",
       "      <td>SEA87LA080</td>\n",
       "      <td>1948-10-24</td>\n",
       "      <td>MOOSE CREEK, ID</td>\n",
       "      <td>United States</td>\n",
       "      <td>Fatal(2)</td>\n",
       "      <td>Destroyed</td>\n",
       "      <td>NaN</td>\n",
       "      <td>Stinson</td>\n",
       "      <td>108-3</td>\n",
       "      <td>1.0</td>\n",
       "      <td>Reciprocating</td>\n",
       "      <td>Personal</td>\n",
       "      <td>2.0</td>\n",
       "      <td>0.0</td>\n",
       "      <td>0.0</td>\n",
       "      <td>0.0</td>\n",
       "      <td>UNK</td>\n",
       "      <td>Cruise</td>\n",
       "      <td>Probable Cause</td>\n",
       "    </tr>\n",
       "    <tr>\n",
       "      <th>1</th>\n",
       "      <td>Accident</td>\n",
       "      <td>LAX94LA336</td>\n",
       "      <td>1962-07-19</td>\n",
       "      <td>BRIDGEPORT, CA</td>\n",
       "      <td>United States</td>\n",
       "      <td>Fatal(4)</td>\n",
       "      <td>Destroyed</td>\n",
       "      <td>NaN</td>\n",
       "      <td>Piper</td>\n",
       "      <td>PA24-180</td>\n",
       "      <td>1.0</td>\n",
       "      <td>Reciprocating</td>\n",
       "      <td>Personal</td>\n",
       "      <td>4.0</td>\n",
       "      <td>0.0</td>\n",
       "      <td>0.0</td>\n",
       "      <td>0.0</td>\n",
       "      <td>UNK</td>\n",
       "      <td>Unknown</td>\n",
       "      <td>Probable Cause</td>\n",
       "    </tr>\n",
       "    <tr>\n",
       "      <th>2</th>\n",
       "      <td>Accident</td>\n",
       "      <td>NYC07LA005</td>\n",
       "      <td>1974-08-30</td>\n",
       "      <td>Saltville, VA</td>\n",
       "      <td>United States</td>\n",
       "      <td>Fatal(3)</td>\n",
       "      <td>Destroyed</td>\n",
       "      <td>NaN</td>\n",
       "      <td>Cessna</td>\n",
       "      <td>172M</td>\n",
       "      <td>1.0</td>\n",
       "      <td>Reciprocating</td>\n",
       "      <td>Personal</td>\n",
       "      <td>3.0</td>\n",
       "      <td>NaN</td>\n",
       "      <td>NaN</td>\n",
       "      <td>NaN</td>\n",
       "      <td>IMC</td>\n",
       "      <td>Cruise</td>\n",
       "      <td>Probable Cause</td>\n",
       "    </tr>\n",
       "    <tr>\n",
       "      <th>3</th>\n",
       "      <td>Accident</td>\n",
       "      <td>LAX96LA321</td>\n",
       "      <td>1977-06-19</td>\n",
       "      <td>EUREKA, CA</td>\n",
       "      <td>United States</td>\n",
       "      <td>Fatal(2)</td>\n",
       "      <td>Destroyed</td>\n",
       "      <td>NaN</td>\n",
       "      <td>Rockwell</td>\n",
       "      <td>112</td>\n",
       "      <td>1.0</td>\n",
       "      <td>Reciprocating</td>\n",
       "      <td>Personal</td>\n",
       "      <td>2.0</td>\n",
       "      <td>0.0</td>\n",
       "      <td>0.0</td>\n",
       "      <td>0.0</td>\n",
       "      <td>IMC</td>\n",
       "      <td>Cruise</td>\n",
       "      <td>Probable Cause</td>\n",
       "    </tr>\n",
       "    <tr>\n",
       "      <th>4</th>\n",
       "      <td>Accident</td>\n",
       "      <td>CHI79FA064</td>\n",
       "      <td>1979-08-02</td>\n",
       "      <td>Canton, OH</td>\n",
       "      <td>United States</td>\n",
       "      <td>Fatal(1)</td>\n",
       "      <td>Destroyed</td>\n",
       "      <td>NaN</td>\n",
       "      <td>Cessna</td>\n",
       "      <td>501</td>\n",
       "      <td>NaN</td>\n",
       "      <td>NaN</td>\n",
       "      <td>Personal</td>\n",
       "      <td>1.0</td>\n",
       "      <td>2.0</td>\n",
       "      <td>NaN</td>\n",
       "      <td>0.0</td>\n",
       "      <td>VMC</td>\n",
       "      <td>Approach</td>\n",
       "      <td>Probable Cause</td>\n",
       "    </tr>\n",
       "    <tr>\n",
       "      <th>...</th>\n",
       "      <td>...</td>\n",
       "      <td>...</td>\n",
       "      <td>...</td>\n",
       "      <td>...</td>\n",
       "      <td>...</td>\n",
       "      <td>...</td>\n",
       "      <td>...</td>\n",
       "      <td>...</td>\n",
       "      <td>...</td>\n",
       "      <td>...</td>\n",
       "      <td>...</td>\n",
       "      <td>...</td>\n",
       "      <td>...</td>\n",
       "      <td>...</td>\n",
       "      <td>...</td>\n",
       "      <td>...</td>\n",
       "      <td>...</td>\n",
       "      <td>...</td>\n",
       "      <td>...</td>\n",
       "      <td>...</td>\n",
       "    </tr>\n",
       "    <tr>\n",
       "      <th>88884</th>\n",
       "      <td>Accident</td>\n",
       "      <td>ERA23LA093</td>\n",
       "      <td>2022-12-26</td>\n",
       "      <td>Annapolis, MD</td>\n",
       "      <td>United States</td>\n",
       "      <td>Minor</td>\n",
       "      <td>NaN</td>\n",
       "      <td>NaN</td>\n",
       "      <td>PIPER</td>\n",
       "      <td>PA-28-151</td>\n",
       "      <td>NaN</td>\n",
       "      <td>NaN</td>\n",
       "      <td>Personal</td>\n",
       "      <td>0.0</td>\n",
       "      <td>1.0</td>\n",
       "      <td>0.0</td>\n",
       "      <td>0.0</td>\n",
       "      <td>NaN</td>\n",
       "      <td>NaN</td>\n",
       "      <td>NaN</td>\n",
       "    </tr>\n",
       "    <tr>\n",
       "      <th>88885</th>\n",
       "      <td>Accident</td>\n",
       "      <td>ERA23LA095</td>\n",
       "      <td>2022-12-26</td>\n",
       "      <td>Hampton, NH</td>\n",
       "      <td>United States</td>\n",
       "      <td>NaN</td>\n",
       "      <td>NaN</td>\n",
       "      <td>NaN</td>\n",
       "      <td>BELLANCA</td>\n",
       "      <td>7ECA</td>\n",
       "      <td>NaN</td>\n",
       "      <td>NaN</td>\n",
       "      <td>NaN</td>\n",
       "      <td>0.0</td>\n",
       "      <td>0.0</td>\n",
       "      <td>0.0</td>\n",
       "      <td>0.0</td>\n",
       "      <td>NaN</td>\n",
       "      <td>NaN</td>\n",
       "      <td>NaN</td>\n",
       "    </tr>\n",
       "    <tr>\n",
       "      <th>88886</th>\n",
       "      <td>Accident</td>\n",
       "      <td>WPR23LA075</td>\n",
       "      <td>2022-12-26</td>\n",
       "      <td>Payson, AZ</td>\n",
       "      <td>United States</td>\n",
       "      <td>Non-Fatal</td>\n",
       "      <td>Substantial</td>\n",
       "      <td>Airplane</td>\n",
       "      <td>AMERICAN CHAMPION AIRCRAFT</td>\n",
       "      <td>8GCBC</td>\n",
       "      <td>1.0</td>\n",
       "      <td>NaN</td>\n",
       "      <td>Personal</td>\n",
       "      <td>0.0</td>\n",
       "      <td>0.0</td>\n",
       "      <td>0.0</td>\n",
       "      <td>1.0</td>\n",
       "      <td>VMC</td>\n",
       "      <td>NaN</td>\n",
       "      <td>NaN</td>\n",
       "    </tr>\n",
       "    <tr>\n",
       "      <th>88887</th>\n",
       "      <td>Accident</td>\n",
       "      <td>WPR23LA076</td>\n",
       "      <td>2022-12-26</td>\n",
       "      <td>Morgan, UT</td>\n",
       "      <td>United States</td>\n",
       "      <td>NaN</td>\n",
       "      <td>NaN</td>\n",
       "      <td>NaN</td>\n",
       "      <td>CESSNA</td>\n",
       "      <td>210N</td>\n",
       "      <td>NaN</td>\n",
       "      <td>NaN</td>\n",
       "      <td>Personal</td>\n",
       "      <td>0.0</td>\n",
       "      <td>0.0</td>\n",
       "      <td>0.0</td>\n",
       "      <td>0.0</td>\n",
       "      <td>NaN</td>\n",
       "      <td>NaN</td>\n",
       "      <td>NaN</td>\n",
       "    </tr>\n",
       "    <tr>\n",
       "      <th>88888</th>\n",
       "      <td>Accident</td>\n",
       "      <td>ERA23LA097</td>\n",
       "      <td>2022-12-29</td>\n",
       "      <td>Athens, GA</td>\n",
       "      <td>United States</td>\n",
       "      <td>Minor</td>\n",
       "      <td>NaN</td>\n",
       "      <td>NaN</td>\n",
       "      <td>PIPER</td>\n",
       "      <td>PA-24-260</td>\n",
       "      <td>NaN</td>\n",
       "      <td>NaN</td>\n",
       "      <td>Personal</td>\n",
       "      <td>0.0</td>\n",
       "      <td>1.0</td>\n",
       "      <td>0.0</td>\n",
       "      <td>1.0</td>\n",
       "      <td>NaN</td>\n",
       "      <td>NaN</td>\n",
       "      <td>NaN</td>\n",
       "    </tr>\n",
       "  </tbody>\n",
       "</table>\n",
       "<p>88889 rows × 20 columns</p>\n",
       "</div>"
      ],
      "text/plain": [
       "      Investigation.Type Accident.Number  Event.Date         Location  \\\n",
       "0               Accident      SEA87LA080  1948-10-24  MOOSE CREEK, ID   \n",
       "1               Accident      LAX94LA336  1962-07-19   BRIDGEPORT, CA   \n",
       "2               Accident      NYC07LA005  1974-08-30    Saltville, VA   \n",
       "3               Accident      LAX96LA321  1977-06-19       EUREKA, CA   \n",
       "4               Accident      CHI79FA064  1979-08-02       Canton, OH   \n",
       "...                  ...             ...         ...              ...   \n",
       "88884           Accident      ERA23LA093  2022-12-26    Annapolis, MD   \n",
       "88885           Accident      ERA23LA095  2022-12-26      Hampton, NH   \n",
       "88886           Accident      WPR23LA075  2022-12-26       Payson, AZ   \n",
       "88887           Accident      WPR23LA076  2022-12-26       Morgan, UT   \n",
       "88888           Accident      ERA23LA097  2022-12-29       Athens, GA   \n",
       "\n",
       "             Country Injury.Severity Aircraft.damage Aircraft.Category  \\\n",
       "0      United States        Fatal(2)       Destroyed               NaN   \n",
       "1      United States        Fatal(4)       Destroyed               NaN   \n",
       "2      United States        Fatal(3)       Destroyed               NaN   \n",
       "3      United States        Fatal(2)       Destroyed               NaN   \n",
       "4      United States        Fatal(1)       Destroyed               NaN   \n",
       "...              ...             ...             ...               ...   \n",
       "88884  United States           Minor             NaN               NaN   \n",
       "88885  United States             NaN             NaN               NaN   \n",
       "88886  United States       Non-Fatal     Substantial          Airplane   \n",
       "88887  United States             NaN             NaN               NaN   \n",
       "88888  United States           Minor             NaN               NaN   \n",
       "\n",
       "                             Make      Model  Number.of.Engines  \\\n",
       "0                         Stinson      108-3                1.0   \n",
       "1                           Piper   PA24-180                1.0   \n",
       "2                          Cessna       172M                1.0   \n",
       "3                        Rockwell        112                1.0   \n",
       "4                          Cessna        501                NaN   \n",
       "...                           ...        ...                ...   \n",
       "88884                       PIPER  PA-28-151                NaN   \n",
       "88885                    BELLANCA       7ECA                NaN   \n",
       "88886  AMERICAN CHAMPION AIRCRAFT      8GCBC                1.0   \n",
       "88887                      CESSNA       210N                NaN   \n",
       "88888                       PIPER  PA-24-260                NaN   \n",
       "\n",
       "         Engine.Type Purpose.of.flight  Total.Fatal.Injuries  \\\n",
       "0      Reciprocating          Personal                   2.0   \n",
       "1      Reciprocating          Personal                   4.0   \n",
       "2      Reciprocating          Personal                   3.0   \n",
       "3      Reciprocating          Personal                   2.0   \n",
       "4                NaN          Personal                   1.0   \n",
       "...              ...               ...                   ...   \n",
       "88884            NaN          Personal                   0.0   \n",
       "88885            NaN               NaN                   0.0   \n",
       "88886            NaN          Personal                   0.0   \n",
       "88887            NaN          Personal                   0.0   \n",
       "88888            NaN          Personal                   0.0   \n",
       "\n",
       "       Total.Serious.Injuries  Total.Minor.Injuries  Total.Uninjured  \\\n",
       "0                         0.0                   0.0              0.0   \n",
       "1                         0.0                   0.0              0.0   \n",
       "2                         NaN                   NaN              NaN   \n",
       "3                         0.0                   0.0              0.0   \n",
       "4                         2.0                   NaN              0.0   \n",
       "...                       ...                   ...              ...   \n",
       "88884                     1.0                   0.0              0.0   \n",
       "88885                     0.0                   0.0              0.0   \n",
       "88886                     0.0                   0.0              1.0   \n",
       "88887                     0.0                   0.0              0.0   \n",
       "88888                     1.0                   0.0              1.0   \n",
       "\n",
       "      Weather.Condition Broad.phase.of.flight   Report.Status  \n",
       "0                   UNK                Cruise  Probable Cause  \n",
       "1                   UNK               Unknown  Probable Cause  \n",
       "2                   IMC                Cruise  Probable Cause  \n",
       "3                   IMC                Cruise  Probable Cause  \n",
       "4                   VMC              Approach  Probable Cause  \n",
       "...                 ...                   ...             ...  \n",
       "88884               NaN                   NaN             NaN  \n",
       "88885               NaN                   NaN             NaN  \n",
       "88886               VMC                   NaN             NaN  \n",
       "88887               NaN                   NaN             NaN  \n",
       "88888               NaN                   NaN             NaN  \n",
       "\n",
       "[88889 rows x 20 columns]"
      ]
     },
     "execution_count": 136,
     "metadata": {},
     "output_type": "execute_result"
    }
   ],
   "source": [
    "# Drop rows where \"Investigation.Type\" is not \"Accident\" or \"Incident\".\n",
    "adc = adc[adc['Investigation.Type'].isin(['Accident', 'Incident'])]\n",
    "\n",
    "# Optionally, reset the index of the cleaned DataFrame\n",
    "adc.reset_index(drop=True, inplace=True)\n",
    "adc"
   ]
  },
  {
   "cell_type": "markdown",
   "metadata": {},
   "source": [
    "#### 2. Accident.Number\n",
    "No need to filter based on this column as we can use this unique identifier later on for ease of reference.\n",
    "#### 3. Event.Date\n",
    "We can use this column later on for plotting purposes to look at the trends such as accidents over time.\n",
    "#### 4. Location\n",
    "Location\n",
    "#### 5. Country\n",
    "Country"
   ]
  },
  {
   "cell_type": "markdown",
   "metadata": {},
   "source": [
    "#### 6. Injury.Severity\n",
    "This is a very important column for our analysis. "
   ]
  },
  {
   "cell_type": "code",
   "execution_count": 137,
   "metadata": {},
   "outputs": [
    {
     "name": "stdout",
     "output_type": "stream",
     "text": [
      "['Fatal(2)' 'Fatal(4)' 'Fatal(3)' 'Fatal(1)' 'Non-Fatal' 'Incident'\n",
      " 'Fatal(8)' 'Fatal(78)' 'Fatal(7)' 'Fatal(6)' 'Fatal(5)' 'Fatal(153)'\n",
      " 'Fatal(12)' 'Fatal(14)' 'Fatal(23)' 'Fatal(10)' 'Fatal(11)' 'Fatal(9)'\n",
      " 'Fatal(17)' 'Fatal(13)' 'Fatal(29)' 'Fatal(70)' 'Unavailable'\n",
      " 'Fatal(135)' 'Fatal(31)' 'Fatal(256)' 'Fatal(25)' 'Fatal(82)'\n",
      " 'Fatal(156)' 'Fatal(28)' 'Fatal(18)' 'Fatal(43)' 'Fatal(15)' 'Fatal(270)'\n",
      " 'Fatal(144)' 'Fatal(174)' 'Fatal(111)' 'Fatal(131)' 'Fatal(20)'\n",
      " 'Fatal(73)' 'Fatal(27)' 'Fatal(34)' 'Fatal(87)' 'Fatal(30)' 'Fatal(16)'\n",
      " 'Fatal(47)' 'Fatal(56)' 'Fatal(37)' 'Fatal(132)' 'Fatal(68)' 'Fatal(54)'\n",
      " 'Fatal(52)' 'Fatal(65)' 'Fatal(72)' 'Fatal(160)' 'Fatal(189)'\n",
      " 'Fatal(123)' 'Fatal(33)' 'Fatal(110)' 'Fatal(230)' 'Fatal(97)'\n",
      " 'Fatal(349)' 'Fatal(125)' 'Fatal(35)' 'Fatal(228)' 'Fatal(75)'\n",
      " 'Fatal(104)' 'Fatal(229)' 'Fatal(80)' 'Fatal(217)' 'Fatal(169)'\n",
      " 'Fatal(88)' 'Fatal(19)' 'Fatal(60)' 'Fatal(113)' 'Fatal(143)' 'Fatal(83)'\n",
      " 'Fatal(24)' 'Fatal(44)' 'Fatal(64)' 'Fatal(92)' 'Fatal(118)' 'Fatal(265)'\n",
      " 'Fatal(26)' 'Fatal(138)' 'Fatal(206)' 'Fatal(71)' 'Fatal(21)' 'Fatal(46)'\n",
      " 'Fatal(102)' 'Fatal(115)' 'Fatal(141)' 'Fatal(55)' 'Fatal(121)'\n",
      " 'Fatal(45)' 'Fatal(145)' 'Fatal(117)' 'Fatal(107)' 'Fatal(124)'\n",
      " 'Fatal(49)' 'Fatal(154)' 'Fatal(96)' 'Fatal(114)' 'Fatal(199)'\n",
      " 'Fatal(89)' 'Fatal(57)' 'Fatal' nan 'Minor' 'Serious']\n"
     ]
    }
   ],
   "source": [
    "unique_injury_severity = adc['Injury.Severity'].unique()\n",
    "print(unique_injury_severity)"
   ]
  },
  {
   "cell_type": "code",
   "execution_count": 138,
   "metadata": {},
   "outputs": [
    {
     "name": "stdout",
     "output_type": "stream",
     "text": [
      "Investigation.Type            0\n",
      "Accident.Number               0\n",
      "Event.Date                    0\n",
      "Location                     52\n",
      "Country                     226\n",
      "Injury.Severity            1000\n",
      "Aircraft.damage            3194\n",
      "Aircraft.Category         56602\n",
      "Make                         63\n",
      "Model                        92\n",
      "Number.of.Engines          6084\n",
      "Engine.Type                7077\n",
      "Purpose.of.flight          6192\n",
      "Total.Fatal.Injuries      11401\n",
      "Total.Serious.Injuries    12510\n",
      "Total.Minor.Injuries      11933\n",
      "Total.Uninjured            5912\n",
      "Weather.Condition          4492\n",
      "Broad.phase.of.flight     27165\n",
      "Report.Status              6381\n",
      "dtype: int64\n"
     ]
    }
   ],
   "source": [
    "print(adc.isnull().sum())"
   ]
  },
  {
   "cell_type": "markdown",
   "metadata": {},
   "source": [
    "#### 7. Total.Fatal.Injuries /\n"
   ]
  },
  {
   "cell_type": "code",
   "execution_count": 139,
   "metadata": {},
   "outputs": [
    {
     "name": "stdout",
     "output_type": "stream",
     "text": [
      "[  2.   4.   3.   1.  nan   0.   8.  78.   7.   6.   5. 153.  12.  14.\n",
      "  23.  10.  11.   9.  17.  13.  29.  70. 135.  31. 256.  25.  82. 156.\n",
      "  28.  18.  43.  15. 270. 144. 174. 111. 131.  20.  73.  27.  34.  87.\n",
      "  30.  16.  47.  56.  37. 132.  68.  54.  52.  65.  72. 160. 189. 123.\n",
      "  33. 110. 230.  97. 349. 125.  35. 228.  75. 104. 229.  80. 217. 169.\n",
      "  88.  19.  60. 113. 143.  83.  24.  44.  64.  92. 118. 265.  26. 138.\n",
      " 206.  71.  21.  46. 102. 115. 141.  55. 121.  45. 145. 117. 107. 124.\n",
      "  49. 154.  96. 114. 199.  89.  57. 152.  90. 103. 158. 157.  42.  77.\n",
      " 127.  50. 239. 295.  58. 162. 150. 224.  62.  66. 112. 188.  41. 176.]\n"
     ]
    }
   ],
   "source": [
    "unique_fatal_injuries = adc['Total.Fatal.Injuries'].unique()\n",
    "print(unique_fatal_injuries)"
   ]
  },
  {
   "cell_type": "code",
   "execution_count": 140,
   "metadata": {},
   "outputs": [
    {
     "data": {
      "image/png": "[encoded data removed]",
      "text/plain": [
       "<Figure size 720x432 with 1 Axes>"
      ]
     },
     "metadata": {
      "needs_background": "light"
     },
     "output_type": "display_data"
    }
   ],
   "source": [
    "# Plot histogram for 'Total.Fatal.Injuries'\n",
    "plt.figure(figsize=(10, 6))\n",
    "sns.histplot(adc['Total.Fatal.Injuries'], bins=30, kde=True)\n",
    "\n",
    "# Customize the plot\n",
    "plt.title('Distribution of Total Fatal Injuries')\n",
    "plt.xlabel('Total Fatal Injuries')\n",
    "plt.ylabel('Frequency')\n",
    "plt.grid(True)\n",
    "plt.show()"
   ]
  },
  {
   "cell_type": "code",
   "execution_count": 141,
   "metadata": {},
   "outputs": [
    {
     "data": {
      "image/png": "[encoded data removed]",
      "text/plain": [
       "<Figure size 576x432 with 1 Axes>"
      ]
     },
     "metadata": {
      "needs_background": "light"
     },
     "output_type": "display_data"
    }
   ],
   "source": [
    "# Box plot to visualize distribution of 'Total.Fatal.Injuries'\n",
    "plt.figure(figsize=(8, 6))\n",
    "sns.boxplot(x=adc['Total.Fatal.Injuries'])\n",
    "\n",
    "# Customize the plot\n",
    "plt.title('Box Plot of Total Fatal Injuries')\n",
    "plt.xlabel('Total Fatal Injuries')\n",
    "plt.grid(True)\n",
    "plt.show()"
   ]
  },
  {
   "cell_type": "code",
   "execution_count": 142,
   "metadata": {},
   "outputs": [
    {
     "name": "stdout",
     "output_type": "stream",
     "text": [
      "Skewness: 33.01867532377133\n",
      "Kurtosis: 1355.6006468218097\n"
     ]
    }
   ],
   "source": [
    "skewness = adc['Total.Fatal.Injuries'].skew()\n",
    "kurtosis = adc['Total.Fatal.Injuries'].kurt()\n",
    "\n",
    "print(f'Skewness: {skewness}')\n",
    "print(f'Kurtosis: {kurtosis}')"
   ]
  },
  {
   "cell_type": "markdown",
   "metadata": {},
   "source": [
    "A skewness of 33.018 suggests that we have alot of accidents with little to no fatal injuries. A Kurtosis of 1355.60 is extremely high, which tells us that we have a few extreme outliers in the dataset. \n",
    "\n",
    "As a result we should replace the null values with the median, which is more resistant to outliers. "
   ]
  },
  {
   "cell_type": "code",
   "execution_count": 143,
   "metadata": {},
   "outputs": [],
   "source": [
    "tfi_median = adc['Total.Fatal.Injuries'].median()\n",
    "\n",
    "adc['Total.Fatal.Injuries'].fillna(tfi_median, inplace=True)"
   ]
  },
  {
   "cell_type": "markdown",
   "metadata": {},
   "source": [
    "The same method should be repeated for the `Total.Serious.Injuries`, `Total.Minor.Injuries` and `Total.Uninjured` columns."
   ]
  },
  {
   "cell_type": "code",
   "execution_count": 144,
   "metadata": {},
   "outputs": [
    {
     "data": {
      "image/png": "[encoded data removed]",
      "text/plain": [
       "<Figure size 576x432 with 1 Axes>"
      ]
     },
     "metadata": {
      "needs_background": "light"
     },
     "output_type": "display_data"
    },
    {
     "name": "stdout",
     "output_type": "stream",
     "text": [
      "TSI Skewness: 49.40002484924553\n",
      "TSI Kurtosis: 3737.3087081044137\n",
      "TSI: 0.0\n",
      "TMI Skewness: 87.26947645182727\n",
      "TMI Kurtosis: 12365.048249512656\n",
      "TMI: 0.0\n",
      "TUI Skewness: 9.086104094841762\n",
      "TUI Kurtosis: 104.61248908867307\n",
      "TUI: 1.0\n"
     ]
    }
   ],
   "source": [
    "# Box plot to visualize distribution of 'Total.Fatal.Injuries'\n",
    "plt.figure(figsize=(8, 6))\n",
    "sns.boxplot(x=adc['Total.Serious.Injuries'])\n",
    "\n",
    "# Customize the plot\n",
    "plt.title('Box Plot of Total Serious Injuries')\n",
    "plt.xlabel('Total Serious Injuries')\n",
    "plt.grid(True)\n",
    "plt.show()\n",
    "\n",
    "skewness = adc['Total.Serious.Injuries'].skew()\n",
    "kurtosis = adc['Total.Serious.Injuries'].kurt()\n",
    "\n",
    "print(f'TSI Skewness: {skewness}')\n",
    "print(f'TSI Kurtosis: {kurtosis}')\n",
    "\n",
    "tsi_median = adc['Total.Serious.Injuries'].median()\n",
    "print(f'TSI: {tsi_median}')\n",
    "adc['Total.Serious.Injuries'].fillna(tsi_median, inplace=True)\n",
    "\n",
    "skewness = adc['Total.Minor.Injuries'].skew()\n",
    "kurtosis = adc['Total.Minor.Injuries'].kurt()\n",
    "\n",
    "print(f'TMI Skewness: {skewness}')\n",
    "print(f'TMI Kurtosis: {kurtosis}')\n",
    "\n",
    "tmi_median = adc['Total.Minor.Injuries'].median()\n",
    "print(f'TMI: {tmi_median}')\n",
    "adc['Total.Minor.Injuries'].fillna(tmi_median, inplace=True)\n",
    "\n",
    "skewness = adc['Total.Uninjured'].skew()\n",
    "kurtosis = adc['Total.Uninjured'].kurt()\n",
    "\n",
    "print(f'TUI Skewness: {skewness}')\n",
    "print(f'TUI Kurtosis: {kurtosis}')\n",
    "\n",
    "tui_median = adc['Total.Uninjured'].median()\n",
    "print(f'TUI: {tui_median}')\n",
    "adc['Total.Uninjured'].fillna(tui_median, inplace=True)"
   ]
  },
  {
   "cell_type": "code",
   "execution_count": 145,
   "metadata": {},
   "outputs": [
    {
     "name": "stdout",
     "output_type": "stream",
     "text": [
      "Investigation.Type            0\n",
      "Accident.Number               0\n",
      "Event.Date                    0\n",
      "Location                     52\n",
      "Country                     226\n",
      "Injury.Severity            1000\n",
      "Aircraft.damage            3194\n",
      "Aircraft.Category         56602\n",
      "Make                         63\n",
      "Model                        92\n",
      "Number.of.Engines          6084\n",
      "Engine.Type                7077\n",
      "Purpose.of.flight          6192\n",
      "Total.Fatal.Injuries          0\n",
      "Total.Serious.Injuries        0\n",
      "Total.Minor.Injuries          0\n",
      "Total.Uninjured               0\n",
      "Weather.Condition          4492\n",
      "Broad.phase.of.flight     27165\n",
      "Report.Status              6381\n",
      "dtype: int64\n"
     ]
    }
   ],
   "source": [
    "print(adc.isnull().sum())"
   ]
  },
  {
   "cell_type": "markdown",
   "metadata": {},
   "source": [
    "#### 8. Injury.Severity"
   ]
  },
  {
   "cell_type": "code",
   "execution_count": 146,
   "metadata": {},
   "outputs": [
    {
     "name": "stdout",
     "output_type": "stream",
     "text": [
      "['Fatal(2)' 'Fatal(4)' 'Fatal(3)' 'Fatal(1)' 'Non-Fatal' 'Incident'\n",
      " 'Fatal(8)' 'Fatal(78)' 'Fatal(7)' 'Fatal(6)' 'Fatal(5)' 'Fatal(153)'\n",
      " 'Fatal(12)' 'Fatal(14)' 'Fatal(23)' 'Fatal(10)' 'Fatal(11)' 'Fatal(9)'\n",
      " 'Fatal(17)' 'Fatal(13)' 'Fatal(29)' 'Fatal(70)' 'Unavailable'\n",
      " 'Fatal(135)' 'Fatal(31)' 'Fatal(256)' 'Fatal(25)' 'Fatal(82)'\n",
      " 'Fatal(156)' 'Fatal(28)' 'Fatal(18)' 'Fatal(43)' 'Fatal(15)' 'Fatal(270)'\n",
      " 'Fatal(144)' 'Fatal(174)' 'Fatal(111)' 'Fatal(131)' 'Fatal(20)'\n",
      " 'Fatal(73)' 'Fatal(27)' 'Fatal(34)' 'Fatal(87)' 'Fatal(30)' 'Fatal(16)'\n",
      " 'Fatal(47)' 'Fatal(56)' 'Fatal(37)' 'Fatal(132)' 'Fatal(68)' 'Fatal(54)'\n",
      " 'Fatal(52)' 'Fatal(65)' 'Fatal(72)' 'Fatal(160)' 'Fatal(189)'\n",
      " 'Fatal(123)' 'Fatal(33)' 'Fatal(110)' 'Fatal(230)' 'Fatal(97)'\n",
      " 'Fatal(349)' 'Fatal(125)' 'Fatal(35)' 'Fatal(228)' 'Fatal(75)'\n",
      " 'Fatal(104)' 'Fatal(229)' 'Fatal(80)' 'Fatal(217)' 'Fatal(169)'\n",
      " 'Fatal(88)' 'Fatal(19)' 'Fatal(60)' 'Fatal(113)' 'Fatal(143)' 'Fatal(83)'\n",
      " 'Fatal(24)' 'Fatal(44)' 'Fatal(64)' 'Fatal(92)' 'Fatal(118)' 'Fatal(265)'\n",
      " 'Fatal(26)' 'Fatal(138)' 'Fatal(206)' 'Fatal(71)' 'Fatal(21)' 'Fatal(46)'\n",
      " 'Fatal(102)' 'Fatal(115)' 'Fatal(141)' 'Fatal(55)' 'Fatal(121)'\n",
      " 'Fatal(45)' 'Fatal(145)' 'Fatal(117)' 'Fatal(107)' 'Fatal(124)'\n",
      " 'Fatal(49)' 'Fatal(154)' 'Fatal(96)' 'Fatal(114)' 'Fatal(199)'\n",
      " 'Fatal(89)' 'Fatal(57)' 'Fatal' nan 'Minor' 'Serious']\n"
     ]
    }
   ],
   "source": [
    "injury_severity = adc['Injury.Severity'].unique()\n",
    "print(injury_severity)"
   ]
  },
  {
   "cell_type": "markdown",
   "metadata": {},
   "source": [
    "This column contains both categorical data and numerical data that is aready being represented in the `Total.Fatal.Injuries` column. As a result we should replace all `Fatal(x)` entries with just `Fatal` to convert the column to purely categorical. For NaN values, due to the low number of rows, I suggest that these rows should be dropped. "
   ]
  },
  {
   "cell_type": "code",
   "execution_count": 147,
   "metadata": {},
   "outputs": [],
   "source": [
    "adc = adc.dropna(subset=['Injury.Severity'])"
   ]
  },
  {
   "cell_type": "code",
   "execution_count": 148,
   "metadata": {},
   "outputs": [
    {
     "name": "stdout",
     "output_type": "stream",
     "text": [
      "['Fatal' 'Non-Fatal' 'Incident' 'Unavailable' 'Minor' 'Serious']\n"
     ]
    }
   ],
   "source": [
    "# Loop through the Injury.Severity column and replace Fatal(X) with 'Fatal'\n",
    "for index, value in adc['Injury.Severity'].iteritems():\n",
    "    if 'Fatal(' in value:\n",
    "        adc.at[index, 'Injury.Severity'] = 'Fatal'\n",
    "\n",
    "# Optional: Check the unique values to confirm the changes\n",
    "unique_injury_severity = adc['Injury.Severity'].unique()\n",
    "print(unique_injury_severity)"
   ]
  },
  {
   "cell_type": "code",
   "execution_count": 149,
   "metadata": {},
   "outputs": [
    {
     "name": "stdout",
     "output_type": "stream",
     "text": [
      "Investigation.Type            0\n",
      "Accident.Number               0\n",
      "Event.Date                    0\n",
      "Location                     52\n",
      "Country                     226\n",
      "Injury.Severity               0\n",
      "Aircraft.damage            2689\n",
      "Aircraft.Category         56486\n",
      "Make                         46\n",
      "Model                        72\n",
      "Number.of.Engines          5363\n",
      "Engine.Type                6271\n",
      "Purpose.of.flight          5243\n",
      "Total.Fatal.Injuries          0\n",
      "Total.Serious.Injuries        0\n",
      "Total.Minor.Injuries          0\n",
      "Total.Uninjured               0\n",
      "Weather.Condition          3580\n",
      "Broad.phase.of.flight     26165\n",
      "Report.Status              5472\n",
      "dtype: int64\n"
     ]
    }
   ],
   "source": [
    "print(adc.isnull().sum())"
   ]
  },
  {
   "cell_type": "markdown",
   "metadata": {},
   "source": [
    "#### 9. Aircraft.Category "
   ]
  },
  {
   "cell_type": "code",
   "execution_count": 150,
   "metadata": {},
   "outputs": [
    {
     "name": "stdout",
     "output_type": "stream",
     "text": [
      "[nan 'Airplane' 'Helicopter' 'Glider' 'Balloon' 'Gyrocraft' 'Ultralight'\n",
      " 'Unknown' 'Blimp' 'Powered-Lift' 'Weight-Shift' 'Powered Parachute'\n",
      " 'Rocket' 'WSFT' 'ULTR']\n"
     ]
    }
   ],
   "source": [
    "unique_categories = adc['Aircraft.Category'].unique()\n",
    "print(unique_categories)"
   ]
  },
  {
   "cell_type": "code",
   "execution_count": 151,
   "metadata": {},
   "outputs": [
    {
     "name": "stdout",
     "output_type": "stream",
     "text": [
      "Airplane             26803\n",
      "Helicopter            3375\n",
      "Glider                 508\n",
      "Balloon                231\n",
      "Gyrocraft              173\n",
      "Weight-Shift           161\n",
      "Powered Parachute       91\n",
      "Ultralight              30\n",
      "Unknown                 11\n",
      "WSFT                     9\n",
      "Powered-Lift             5\n",
      "Blimp                    4\n",
      "ULTR                     1\n",
      "Rocket                   1\n",
      "Name: Aircraft.Category, dtype: int64\n"
     ]
    }
   ],
   "source": [
    "# Count the number of rows that fall under the unique categories. \n",
    "category_counts = adc['Aircraft.Category'].value_counts()\n",
    "print(category_counts)"
   ]
  },
  {
   "cell_type": "markdown",
   "metadata": {},
   "source": [
    "Considering that our business problem states that we only interested in planes, we should drop all rows where `Aircraft.Category` is not <b>Airplane</b>. Retaining the NaN rows is of interest due to the large number of rows. We shall replace the NaN values with <b>Unknown</b> as a placeholder."
   ]
  },
  {
   "cell_type": "code",
   "execution_count": 152,
   "metadata": {},
   "outputs": [
    {
     "name": "stdout",
     "output_type": "stream",
     "text": [
      "Unknown     56486\n",
      "Airplane    26803\n",
      "Name: Aircraft.Category, dtype: int64\n"
     ]
    }
   ],
   "source": [
    "# Filter the DataFrame to keep only rows where Aircraft.Category is 'Airplane' or is NaN\n",
    "adc = adc[adc['Aircraft.Category'].isna() | (adc['Aircraft.Category'] == 'Airplane')]\n",
    "\n",
    "# Add \"Unknown\" category\n",
    "adc['Aircraft.Category'] = adc['Aircraft.Category'].fillna('Unknown')\n",
    "\n",
    "# Display category count\n",
    "category_counts = adc['Aircraft.Category'].value_counts()\n",
    "print(category_counts)"
   ]
  },
  {
   "cell_type": "code",
   "execution_count": 153,
   "metadata": {},
   "outputs": [
    {
     "name": "stdout",
     "output_type": "stream",
     "text": [
      "Investigation.Type            0\n",
      "Accident.Number               0\n",
      "Event.Date                    0\n",
      "Location                     50\n",
      "Country                     221\n",
      "Injury.Severity               0\n",
      "Aircraft.damage            2523\n",
      "Aircraft.Category             0\n",
      "Make                         43\n",
      "Model                        70\n",
      "Number.of.Engines          4720\n",
      "Engine.Type                5018\n",
      "Purpose.of.flight          4599\n",
      "Total.Fatal.Injuries          0\n",
      "Total.Serious.Injuries        0\n",
      "Total.Minor.Injuries          0\n",
      "Total.Uninjured               0\n",
      "Weather.Condition          3035\n",
      "Broad.phase.of.flight     22535\n",
      "Report.Status              4552\n",
      "dtype: int64\n"
     ]
    }
   ],
   "source": [
    "print(adc.isnull().sum())"
   ]
  },
  {
   "cell_type": "markdown",
   "metadata": {},
   "source": [
    "#### 10. Number.of.Engines"
   ]
  },
  {
   "cell_type": "code",
   "execution_count": 154,
   "metadata": {},
   "outputs": [
    {
     "name": "stdout",
     "output_type": "stream",
     "text": [
      "[ 1. nan  2.  3.  4.  0.  8.  6.]\n",
      "1.0    66321\n",
      "2.0    10630\n",
      "0.0      728\n",
      "3.0      481\n",
      "4.0      407\n",
      "6.0        1\n",
      "8.0        1\n",
      "Name: Number.of.Engines, dtype: int64\n"
     ]
    }
   ],
   "source": [
    "number_of_engines_unique = adc['Number.of.Engines'].unique()\n",
    "print(number_of_engines_unique)\n",
    "\n",
    "# Display category count\n",
    "engines_counts = adc['Number.of.Engines'].value_counts()\n",
    "print(engines_counts)"
   ]
  },
  {
   "cell_type": "code",
   "execution_count": 155,
   "metadata": {},
   "outputs": [
    {
     "data": {
      "image/png": "[encoded data removed]",
      "text/plain": [
       "<Figure size 576x432 with 1 Axes>"
      ]
     },
     "metadata": {
      "needs_background": "light"
     },
     "output_type": "display_data"
    },
    {
     "name": "stdout",
     "output_type": "stream",
     "text": [
      "Skewness: 2.69191901143728\n",
      "Kurtosis: 11.301147962500368\n"
     ]
    }
   ],
   "source": [
    "# Box plot to visualize distribution of 'Total.Fatal.Injuries'\n",
    "plt.figure(figsize=(8, 6))\n",
    "sns.boxplot(x=adc['Number.of.Engines'])\n",
    "\n",
    "# Customize the plot\n",
    "plt.title('Box Plot of Number of Engines')\n",
    "plt.xlabel('Number of Engines')\n",
    "plt.grid(True)\n",
    "plt.show()\n",
    "\n",
    "skewness = adc['Number.of.Engines'].skew()\n",
    "kurtosis = adc['Number.of.Engines'].kurt()\n",
    "\n",
    "print(f'Skewness: {skewness}')\n",
    "print(f'Kurtosis: {kurtosis}')"
   ]
  },
  {
   "cell_type": "markdown",
   "metadata": {},
   "source": [
    "Due to the right skewness and high kurtosis, we should replace the NaN values with the median.  "
   ]
  },
  {
   "cell_type": "code",
   "execution_count": 156,
   "metadata": {},
   "outputs": [
    {
     "name": "stdout",
     "output_type": "stream",
     "text": [
      "1.0\n"
     ]
    }
   ],
   "source": [
    "engines_median = adc['Number.of.Engines'].median()\n",
    "print(engines_median)\n",
    "adc['Number.of.Engines'].fillna(engines_median, inplace=True)"
   ]
  },
  {
   "cell_type": "markdown",
   "metadata": {},
   "source": [
    "#### 11. Engine.Type"
   ]
  },
  {
   "cell_type": "code",
   "execution_count": 157,
   "metadata": {},
   "outputs": [
    {
     "name": "stdout",
     "output_type": "stream",
     "text": [
      "['Reciprocating' nan 'Turbo Fan' 'Turbo Prop' 'Turbo Jet' 'Turbo Shaft'\n",
      " 'Unknown' 'Electric' 'Geared Turbofan' 'UNK']\n",
      "Reciprocating      67615\n",
      "Turbo Prop          3368\n",
      "Turbo Fan           2359\n",
      "Turbo Shaft         2287\n",
      "Unknown             1947\n",
      "Turbo Jet            689\n",
      "Electric               4\n",
      "Geared Turbofan        1\n",
      "UNK                    1\n",
      "Name: Engine.Type, dtype: int64\n"
     ]
    }
   ],
   "source": [
    "engine_type_unique = adc['Engine.Type'].unique()\n",
    "engines_type_count = adc['Engine.Type'].value_counts()\n",
    "\n",
    "\n",
    "print(engine_type_unique)\n",
    "print(engines_type_count)"
   ]
  },
  {
   "cell_type": "markdown",
   "metadata": {},
   "source": [
    "Placing the NaN rows with the 'Unknown' category is the most logical step."
   ]
  },
  {
   "cell_type": "code",
   "execution_count": 160,
   "metadata": {},
   "outputs": [
    {
     "name": "stdout",
     "output_type": "stream",
     "text": [
      "5018\n"
     ]
    }
   ],
   "source": [
    "# Replace NaN with \"Engine.Type\" mode \n",
    "# Add \"Unknown\" category\n",
    "nan_count = adc['Engine.Type'].isna().sum()\n",
    "print(nan_count)\n",
    "adc['Engine.Type'] = adc['Engine.Type'].fillna('Unknown')"
   ]
  },
  {
   "cell_type": "code",
   "execution_count": 161,
   "metadata": {},
   "outputs": [
    {
     "name": "stdout",
     "output_type": "stream",
     "text": [
      "Reciprocating      67615\n",
      "Unknown             6965\n",
      "Turbo Prop          3368\n",
      "Turbo Fan           2359\n",
      "Turbo Shaft         2287\n",
      "Turbo Jet            689\n",
      "Electric               4\n",
      "Geared Turbofan        1\n",
      "UNK                    1\n",
      "Name: Engine.Type, dtype: int64\n"
     ]
    }
   ],
   "source": [
    "engines_type_count = adc['Engine.Type'].value_counts()\n",
    "print(engines_type_count)"
   ]
  },
  {
   "cell_type": "markdown",
   "metadata": {},
   "source": [
    "#### 12. Purpose.of.flight"
   ]
  },
  {
   "cell_type": "code",
   "execution_count": 162,
   "metadata": {},
   "outputs": [
    {
     "name": "stdout",
     "output_type": "stream",
     "text": [
      "Investigation.Type            0\n",
      "Accident.Number               0\n",
      "Event.Date                    0\n",
      "Location                     50\n",
      "Country                     221\n",
      "Injury.Severity               0\n",
      "Aircraft.damage            2523\n",
      "Aircraft.Category             0\n",
      "Make                         43\n",
      "Model                        70\n",
      "Number.of.Engines             0\n",
      "Engine.Type                   0\n",
      "Purpose.of.flight          4599\n",
      "Total.Fatal.Injuries          0\n",
      "Total.Serious.Injuries        0\n",
      "Total.Minor.Injuries          0\n",
      "Total.Uninjured               0\n",
      "Weather.Condition          3035\n",
      "Broad.phase.of.flight     22535\n",
      "Report.Status              4552\n",
      "dtype: int64\n"
     ]
    }
   ],
   "source": [
    "print(adc.isnull().sum())"
   ]
  },
  {
   "cell_type": "code",
   "execution_count": 164,
   "metadata": {},
   "outputs": [
    {
     "name": "stdout",
     "output_type": "stream",
     "text": [
      "['Personal' nan 'Business' 'Instructional' 'Ferry' 'Unknown'\n",
      " 'Executive/corporate' 'Aerial Observation' 'Aerial Application'\n",
      " 'Public Aircraft' 'Skydiving' 'Other Work Use' 'Positioning'\n",
      " 'Flight Test' 'Air Race/show' 'Air Drop' 'Public Aircraft - Federal'\n",
      " 'Glider Tow' 'Public Aircraft - Local' 'External Load'\n",
      " 'Public Aircraft - State' 'Banner Tow' 'Firefighting' 'Air Race show'\n",
      " 'PUBS' 'ASHO']\n"
     ]
    }
   ],
   "source": [
    "print(adc['Purpose.of.flight'].unique())"
   ]
  },
  {
   "cell_type": "code",
   "execution_count": null,
   "metadata": {},
   "outputs": [],
   "source": [
    "Placing the NaN rows with the 'Unknown' category is the most logical step."
   ]
  },
  {
   "cell_type": "code",
   "execution_count": 165,
   "metadata": {},
   "outputs": [
    {
     "name": "stdout",
     "output_type": "stream",
     "text": [
      "4599\n"
     ]
    }
   ],
   "source": [
    "nan_count = adc['Purpose.of.flight'].isna().sum()\n",
    "print(nan_count)\n",
    "adc['Purpose.of.flight'] = adc['Purpose.of.flight'].fillna('Unknown')"
   ]
  },
  {
   "cell_type": "markdown",
   "metadata": {},
   "source": [
    "#### 13. Weather.Condition"
   ]
  },
  {
   "cell_type": "code",
   "execution_count": 169,
   "metadata": {},
   "outputs": [
    {
     "name": "stdout",
     "output_type": "stream",
     "text": [
      "['UNK' 'IMC' 'VMC' nan 'Unk']\n",
      "VMC    73368\n",
      "IMC     5844\n",
      "UNK      843\n",
      "Unk      199\n",
      "Name: Weather.Condition, dtype: int64\n"
     ]
    }
   ],
   "source": [
    "print(adc['Weather.Condition'].unique())\n",
    "print(adc['Weather.Condition'].value_counts())"
   ]
  },
  {
   "cell_type": "markdown",
   "metadata": {},
   "source": [
    "Same logic used here as the column above"
   ]
  },
  {
   "cell_type": "code",
   "execution_count": 170,
   "metadata": {},
   "outputs": [
    {
     "name": "stdout",
     "output_type": "stream",
     "text": [
      "3035\n"
     ]
    }
   ],
   "source": [
    "nan_count = adc['Weather.Condition'].isna().sum()\n",
    "print(nan_count)\n",
    "adc['Weather.Condition'] = adc['Weather.Condition'].fillna('Unk')"
   ]
  },
  {
   "cell_type": "markdown",
   "metadata": {},
   "source": [
    "#### 14. Broad.phase.of.flight"
   ]
  },
  {
   "cell_type": "code",
   "execution_count": 173,
   "metadata": {},
   "outputs": [
    {
     "name": "stdout",
     "output_type": "stream",
     "text": [
      "['Cruise' 'Unknown' 'Approach' 'Climb' 'Takeoff' 'Landing' 'Taxi'\n",
      " 'Descent' 'Maneuvering' 'Standing' 'Go-around' 'Other' nan]\n",
      "Landing        15195\n",
      "Takeoff        12352\n",
      "Cruise         10117\n",
      "Maneuvering     7895\n",
      "Approach        6446\n",
      "Climb           2018\n",
      "Taxi            1942\n",
      "Descent         1857\n",
      "Go-around       1350\n",
      "Standing         921\n",
      "Unknown          546\n",
      "Other            115\n",
      "Name: Broad.phase.of.flight, dtype: int64\n"
     ]
    }
   ],
   "source": [
    "print(adc['Broad.phase.of.flight'].unique())\n",
    "print(adc['Broad.phase.of.flight'].value_counts())"
   ]
  },
  {
   "cell_type": "code",
   "execution_count": 174,
   "metadata": {},
   "outputs": [
    {
     "name": "stdout",
     "output_type": "stream",
     "text": [
      "22535\n"
     ]
    }
   ],
   "source": [
    "nan_count = adc['Broad.phase.of.flight'].isna().sum()\n",
    "print(nan_count)\n",
    "adc['Broad.phase.of.flight'] = adc['Broad.phase.of.flight'].fillna('Unknown')"
   ]
  },
  {
   "cell_type": "code",
   "execution_count": 175,
   "metadata": {},
   "outputs": [
    {
     "name": "stdout",
     "output_type": "stream",
     "text": [
      "Unknown        23081\n",
      "Landing        15195\n",
      "Takeoff        12352\n",
      "Cruise         10117\n",
      "Maneuvering     7895\n",
      "Approach        6446\n",
      "Climb           2018\n",
      "Taxi            1942\n",
      "Descent         1857\n",
      "Go-around       1350\n",
      "Standing         921\n",
      "Other            115\n",
      "Name: Broad.phase.of.flight, dtype: int64\n"
     ]
    }
   ],
   "source": [
    "print(adc['Broad.phase.of.flight'].value_counts())"
   ]
  },
  {
   "cell_type": "markdown",
   "metadata": {},
   "source": [
    "#### 14. Report.Status"
   ]
  },
  {
   "cell_type": "code",
   "execution_count": 177,
   "metadata": {},
   "outputs": [
    {
     "name": "stdout",
     "output_type": "stream",
     "text": [
      "['Probable Cause' 'Factual' 'Foreign' ...\n",
      " 'The pilot did not ensure adequate clearance from construction vehicles during taxi.'\n",
      " 'The pilot\\x92s failure to secure the magneto switch before attempting to hand rotate the engine which resulted in an inadvertent engine start, a runaway airplane, and subsequent impact with parked airplanes. Contributing to the accident was the failure to properly secure the airplane with chocks.'\n",
      " 'The pilot\\x92s loss of control due to a wind gust during landing.']\n"
     ]
    }
   ],
   "source": [
    "print(adc['Report.Status'].unique())\n",
    "#print(adc['Report.Status'].value_counts())"
   ]
  },
  {
   "cell_type": "markdown",
   "metadata": {},
   "source": [
    "An initial analysis shows that entries where the string <b>pilot</b> is mentioned insinuates that the pilot is at fault of the accident, not the plane. As a result, I suggest that we should remove all records where <b>pilot</b> is mentioned."
   ]
  },
  {
   "cell_type": "code",
   "execution_count": 180,
   "metadata": {},
   "outputs": [
    {
     "name": "stdout",
     "output_type": "stream",
     "text": [
      "11563\n"
     ]
    }
   ],
   "source": [
    "pilot_error_count = 0\n",
    "adc['Report.Status'] = adc['Report.Status'].fillna('Unknown')\n",
    "\n",
    "for index, value in adc['Report.Status'].iteritems():\n",
    "    if 'pilot' in value:\n",
    "        pilot_error_count += 1\n",
    "print(pilot_error_count)"
   ]
  },
  {
   "cell_type": "markdown",
   "metadata": {},
   "source": [
    "<b>11,563</b> accidents are pilot related. Since this is a key column in our analysis, these rows should be dropped."
   ]
  },
  {
   "cell_type": "code",
   "execution_count": 181,
   "metadata": {},
   "outputs": [
    {
     "name": "stdout",
     "output_type": "stream",
     "text": [
      "Investigation.Type           0\n",
      "Accident.Number              0\n",
      "Event.Date                   0\n",
      "Location                    50\n",
      "Country                    221\n",
      "Injury.Severity              0\n",
      "Aircraft.damage           2523\n",
      "Aircraft.Category            0\n",
      "Make                        43\n",
      "Model                       70\n",
      "Number.of.Engines            0\n",
      "Engine.Type                  0\n",
      "Purpose.of.flight            0\n",
      "Total.Fatal.Injuries         0\n",
      "Total.Serious.Injuries       0\n",
      "Total.Minor.Injuries         0\n",
      "Total.Uninjured              0\n",
      "Weather.Condition            0\n",
      "Broad.phase.of.flight        0\n",
      "Report.Status                0\n",
      "dtype: int64\n"
     ]
    }
   ],
   "source": [
    "print(adc.isnull().sum())"
   ]
  },
  {
   "cell_type": "code",
   "execution_count": null,
   "metadata": {},
   "outputs": [],
   "source": []
  }
 ],
 "metadata": {
  "kernelspec": {
   "display_name": "Python (learn-env)",
   "language": "python",
   "name": "learn-env"
  },
  "language_info": {
   "codemirror_mode": {
    "name": "ipython",
    "version": 3
   },
   "file_extension": ".py",
   "mimetype": "text/x-python",
   "name": "python",
   "nbconvert_exporter": "python",
   "pygments_lexer": "ipython3",
   "version": "3.8.5"
  }
 },
 "nbformat": 4,
 "nbformat_minor": 4
}
